{
 "cells": [
  {
   "cell_type": "code",
   "execution_count": null,
   "id": "f704985c",
   "metadata": {},
   "outputs": [],
   "source": [
    "Python - Lista de Exercícios (Estrutura Sequencial) \n",
    "link: https://wiki.python.org.br/EstruturaSequencial"
   ]
  },
  {
   "cell_type": "markdown",
   "id": "f36f0365",
   "metadata": {},
   "source": [
    "14) João Papo-de-Pescador, homem de bem, comprou um microcomputador para controlar o rendimento diário de seu trabalho. Toda vez que ele traz um peso de peixes maior que o estabelecido pelo regulamento de pesca do estado de São Paulo (50 quilos) deve pagar uma multa de 4,00 reais por quilo excedente. João precisa que você faça um programa que leia a variável peso (peso de peixes) e calcule o excesso. Gravar na variável excesso a quantidade de quilos além do limite e na variável multa o valor da multa que João deverá pagar. Imprima os dados do programa com as mensagens adequadas."
   ]
  },
  {
   "cell_type": "code",
   "execution_count": null,
   "id": "291025e7",
   "metadata": {},
   "outputs": [],
   "source": [
    "Obs.: Visando desenvolver o programa de forma mais dinâmica e menos suscetível a erros, adicionei \n",
    "outras estruturas no corpo do código. De modo que apenas números, maiores do que zero, sejam aceitos\n",
    "durante sua execução."
   ]
  },
  {
   "cell_type": "code",
   "execution_count": null,
   "id": "eb6d47b6",
   "metadata": {},
   "outputs": [],
   "source": [
    "while True:\n",
    "  x = input(\"Peso total: \")\n",
    "  try:\n",
    "    float(x)\n",
    "    if float(x) < 0:\n",
    "      print(\"Por favor, digite apenas números positivos.\")\n",
    "      continue\n",
    "    elif float(x) > 50:\n",
    "      excesso = float(x) - 50\n",
    "      multa = excesso * 4\n",
    "      print(f\"{excesso} Quilos execentes.\")\n",
    "      print(f\"Multa total de {multa} R$.\")\n",
    "      break\n",
    "    else:\n",
    "      print(f\"Nenhum quilo excedente.\")\n",
    "      break\n",
    "  except:\n",
    "    print(\"Por favor, digite apenas números.\")\n",
    "    continue"
   ]
  }
 ],
 "metadata": {
  "kernelspec": {
   "display_name": "Python 3 (ipykernel)",
   "language": "python",
   "name": "python3"
  },
  "language_info": {
   "codemirror_mode": {
    "name": "ipython",
    "version": 3
   },
   "file_extension": ".py",
   "mimetype": "text/x-python",
   "name": "python",
   "nbconvert_exporter": "python",
   "pygments_lexer": "ipython3",
   "version": "3.8.10"
  }
 },
 "nbformat": 4,
 "nbformat_minor": 5
}
